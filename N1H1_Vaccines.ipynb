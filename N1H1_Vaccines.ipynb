{
  "nbformat": 4,
  "nbformat_minor": 0,
  "metadata": {
    "colab": {
      "provenance": [],
      "authorship_tag": "ABX9TyMTEsjWfFuvTxMdZM4cQ8AO",
      "include_colab_link": true
    },
    "kernelspec": {
      "name": "python3",
      "display_name": "Python 3"
    },
    "language_info": {
      "name": "python"
    }
  },
  "cells": [
    {
      "cell_type": "markdown",
      "metadata": {
        "id": "view-in-github",
        "colab_type": "text"
      },
      "source": [
        "<a href=\"https://colab.research.google.com/github/anujoshi3390/H1N1-Vaccines/blob/main/N1H1_Vaccines.ipynb\" target=\"_parent\"><img src=\"https://colab.research.google.com/assets/colab-badge.svg\" alt=\"Open In Colab\"/></a>"
      ]
    },
    {
      "cell_type": "markdown",
      "source": [
        "## H1N1 Vaccines"
      ],
      "metadata": {
        "id": "dEtfsusBUA2r"
      }
    },
    {
      "cell_type": "markdown",
      "source": [
        "# 1. Project Description & Objective"
      ],
      "metadata": {
        "id": "4FXJN8ckUjJh"
      }
    },
    {
      "cell_type": "markdown",
      "source": [
        "\n",
        "DESCRIPTION: Beginning in the spring of 2009, the H1N1 influenza virus, commonly referred to as \"swine flu,\" swept across the globe. It is estimated that in the first year, swine flu was responsible for 363,000 deaths worldwide.\n",
        "\n",
        "OBJECTIVE: The objective of this project is to identify individuals who will not receive a swine flu vaccine. Predicting individuals who will not receive the vaccine will help to inform the CDC’s marketing strategies. To do this, I have analyzed over 26,000 data points collected via phone call through the National 2009 H1N1 Flu Survey. This survey was administered by the National Center for Health Statistics in collaboration with the CDC."
      ],
      "metadata": {
        "id": "AknS1GYgTX8A"
      }
    },
    {
      "cell_type": "markdown",
      "source": [
        "DEFINING KEY TERMS: Throughout this notebook, when the term “unvaccinated” is used, it refers specifically to the annual swine flu vaccinestill recommended today by the CDC.\n",
        "\n",
        "METHODOLOGY: Logistic Regression\n",
        "\n",
        "TARGET: h1n1_vaccine - 1 represents no vaccine - 0 represents vaccine\n",
        "\n",
        "PERFORMANCE METRICS: Performance will be evaluated according to the area under the receiver operating characteristic curve (ROC) along with the accuracy, recall, precision, and f1 scores. A higher value indicates stronger performance."
      ],
      "metadata": {
        "id": "pFVafbglUO9i"
      }
    },
    {
      "cell_type": "markdown",
      "source": [
        "# 2. Imports and Data"
      ],
      "metadata": {
        "id": "egX7s2t2UWfe"
      }
    },
    {
      "cell_type": "code",
      "source": [
        "import pandas as pd\n",
        "import numpy as np\n",
        "from numpy import ravel\n",
        "from matplotlib import pyplot as plt\n",
        "import seaborn as sns\n",
        "\n",
        "from sklearn.model_selection import train_test_split, GridSearchCV, cross_val_score, cross_validate\n",
        "from sklearn.pipeline import Pipeline\n",
        "from sklearn.preprocessing import StandardScaler, OneHotEncoder, FunctionTransformer, PolynomialFeatures,\\\n",
        "Normalizer, MinMaxScaler, PowerTransformer, MaxAbsScaler, LabelEncoder\n",
        "\n",
        "from sklearn.impute import SimpleImputer, MissingIndicator\n",
        "from sklearn.compose import ColumnTransformer,  make_column_selector as selector\n",
        "from sklearn.linear_model import LogisticRegression\n",
        "from sklearn.ensemble import RandomForestClassifier, GradientBoostingClassifier\n",
        "from sklearn.metrics import plot_confusion_matrix, recall_score,\\\n",
        "    accuracy_score, precision_score, f1_score, plot_roc_curve, roc_auc_score\n",
        "\n",
        "from sklearn.dummy import DummyClassifier\n",
        "from sklearn.tree import DecisionTreeClassifier\n",
        "from imblearn.over_sampling import SMOTE\n",
        "from imblearn.pipeline import Pipeline as ImPipeline\n",
        "from sklearn.metrics import roc_curve, auc\n",
        "from sklearn.neighbors import KNeighborsClassifier\n",
        "from sklearn.feature_selection import VarianceThreshold"
      ],
      "metadata": {
        "id": "EXnjlLoUT9SZ"
      },
      "execution_count": null,
      "outputs": []
    },
    {
      "cell_type": "code",
      "source": [
        "trainfeatures = pd.read_csv('training_set_features.csv')\n",
        "trainlabels = pd.read_csv('training_set_labels.csv')"
      ],
      "metadata": {
        "id": "eOf-m62KU2OT"
      },
      "execution_count": null,
      "outputs": []
    },
    {
      "cell_type": "code",
      "source": [
        "trainfeatures.shape, trainlabels.shape"
      ],
      "metadata": {
        "id": "DkZHNjV_U5n7"
      },
      "execution_count": null,
      "outputs": []
    },
    {
      "cell_type": "markdown",
      "source": [
        "Merging features and labels dataframes to create one comprehensive dataset."
      ],
      "metadata": {
        "id": "xU34l_V7VBJS"
      }
    },
    {
      "cell_type": "code",
      "source": [
        "df = trainfeatures.merge(trainlabels,on='respondent_id',how='outer')"
      ],
      "metadata": {
        "id": "p1boJzI2U8W2"
      },
      "execution_count": null,
      "outputs": []
    },
    {
      "cell_type": "code",
      "source": [
        "df.head()"
      ],
      "metadata": {
        "id": "aggTlw_ZVF-q"
      },
      "execution_count": null,
      "outputs": []
    },
    {
      "cell_type": "code",
      "source": [
        "df.h1n1_vaccine.value_counts()"
      ],
      "metadata": {
        "id": "Ab0pkRBJVGFr"
      },
      "execution_count": null,
      "outputs": []
    },
    {
      "cell_type": "markdown",
      "source": [
        "# 3. Exploratory Data Analysis"
      ],
      "metadata": {
        "id": "aJUj4YGhVROb"
      }
    },
    {
      "cell_type": "code",
      "source": [
        "df.info()"
      ],
      "metadata": {
        "id": "lN6jY-U5VGIA"
      },
      "execution_count": null,
      "outputs": []
    },
    {
      "cell_type": "markdown",
      "source": [
        "n our question, we want to uncover who is will not receive a h1n1 vaccine, therefore, we will switch our target variable so that 0 represents receiving the vaccine and 1 represents not receiving the vaccine."
      ],
      "metadata": {
        "id": "gs2SL6dzVgld"
      }
    },
    {
      "cell_type": "code",
      "source": [
        "df.h1n1_vaccine = df.h1n1_vaccine.replace(0, \"no vaccine\")\n",
        "df.h1n1_vaccine = df.h1n1_vaccine.replace(1, \"vaccine\")\n"
      ],
      "metadata": {
        "id": "76dc-WPJVGJ9"
      },
      "execution_count": null,
      "outputs": []
    },
    {
      "cell_type": "code",
      "source": [
        "df.h1n1_vaccine.value_counts()"
      ],
      "metadata": {
        "id": "LF1Rf5OcVkS8"
      },
      "execution_count": null,
      "outputs": []
    },
    {
      "cell_type": "code",
      "source": [
        "df.h1n1_vaccine = df.h1n1_vaccine.replace(\"no vaccine\", 1)\n",
        "df.h1n1_vaccine = df.h1n1_vaccine.replace(\"vaccine\", 0)"
      ],
      "metadata": {
        "id": "PiFXGU51VkaG"
      },
      "execution_count": null,
      "outputs": []
    },
    {
      "cell_type": "code",
      "source": [
        "df.h1n1_vaccine.value_counts()"
      ],
      "metadata": {
        "id": "4YKuNqqHVkcm"
      },
      "execution_count": null,
      "outputs": []
    },
    {
      "cell_type": "code",
      "source": [
        "df['h1n1_vaccine'].value_counts(normalize=True)"
      ],
      "metadata": {
        "id": "vVCcJruzVkex"
      },
      "execution_count": null,
      "outputs": []
    },
    {
      "cell_type": "markdown",
      "source": [
        "There may be a class imbalance issue given that 78.75% of the dataset did not receive the h1n1 vaccine."
      ],
      "metadata": {
        "id": "tSjGmB1_Vu1J"
      }
    },
    {
      "cell_type": "code",
      "source": [
        "df['h1n1_vaccine'].value_counts(normalize=True).plot(kind='bar');"
      ],
      "metadata": {
        "id": "avCuxO0rVkg3"
      },
      "execution_count": null,
      "outputs": []
    },
    {
      "cell_type": "markdown",
      "source": [
        "Let's explore the relationship of other categorical variables with the target variables."
      ],
      "metadata": {
        "id": "EFSH9hEyV0R9"
      }
    },
    {
      "cell_type": "code",
      "source": [
        "sns.barplot(x=df['sex'], y=df['h1n1_vaccine']);"
      ],
      "metadata": {
        "id": "T7WjiHNnVki1"
      },
      "execution_count": null,
      "outputs": []
    },
    {
      "cell_type": "code",
      "source": [
        "sns.barplot(x=df['education'], y=df['h1n1_vaccine'] * 100);"
      ],
      "metadata": {
        "id": "lB48c7etV3Mk"
      },
      "execution_count": null,
      "outputs": []
    },
    {
      "cell_type": "code",
      "source": [
        "sns.barplot(x=df['income_poverty'], y=df['h1n1_vaccine']);\n"
      ],
      "metadata": {
        "id": "j9_uhjEiV3TP"
      },
      "execution_count": null,
      "outputs": []
    },
    {
      "cell_type": "code",
      "source": [
        "sns.barplot(x=df['employment_status'], y=df['h1n1_vaccine']);\n"
      ],
      "metadata": {
        "id": "a7pM-xgxV3Vq"
      },
      "execution_count": null,
      "outputs": []
    },
    {
      "cell_type": "code",
      "source": [
        "sns.barplot(x=df['rent_or_own'], y=df['h1n1_vaccine']);\n"
      ],
      "metadata": {
        "id": "lokADKDzV3XY"
      },
      "execution_count": null,
      "outputs": []
    },
    {
      "cell_type": "code",
      "source": [
        "sns.barplot(x=df['age_group'], y=df['h1n1_vaccine']);\n"
      ],
      "metadata": {
        "id": "IpSDFI88V3bI"
      },
      "execution_count": null,
      "outputs": []
    },
    {
      "cell_type": "code",
      "source": [
        "sns.barplot(x=df['doctor_recc_h1n1'], y=df['h1n1_vaccine']);\n"
      ],
      "metadata": {
        "id": "MXOB4ouCV3c_"
      },
      "execution_count": null,
      "outputs": []
    },
    {
      "cell_type": "markdown",
      "source": [
        "# 4. Pipeline Creation - H1N1 Vaccine and All Variables"
      ],
      "metadata": {
        "id": "Kt6CFUcBWHwH"
      }
    },
    {
      "cell_type": "markdown",
      "source": [
        "Creating categorical, binary, and simple imputer only column lists to use in pipelines."
      ],
      "metadata": {
        "id": "jypzjUDfWLZ_"
      }
    },
    {
      "cell_type": "code",
      "source": [
        "df.sex.value_counts()"
      ],
      "metadata": {
        "id": "zvMoNzNUV3fE"
      },
      "execution_count": null,
      "outputs": []
    },
    {
      "cell_type": "code",
      "source": [
        "df.marital_status.value_counts()"
      ],
      "metadata": {
        "id": "M2XsQhs0d0mu"
      },
      "execution_count": null,
      "outputs": []
    },
    {
      "cell_type": "code",
      "source": [
        "df.rent_or_own.value_counts()"
      ],
      "metadata": {
        "id": "Oma1d-syd000"
      },
      "execution_count": null,
      "outputs": []
    },
    {
      "cell_type": "code",
      "source": [
        "categorical_columns = ['age_group','education','race','income_poverty','employment_status', 'hhs_geo_region','census_msa',\n",
        "                       'household_adults','household_children','employment_industry','employment_occupation']\n",
        "\n",
        "#binary columns include columns that are binary but need to be one-hot-encoded because they are objects\n",
        "binary_columns = ['sex','marital_status','rent_or_own']\n",
        "\n",
        "#simple impute only includes: (1) binary variables that contain 0 and 1 already and (2) survey data that is on a scale from 0-x.\n",
        "simple_impute_only = ['opinion_h1n1_vacc_effective','opinion_h1n1_risk','opinion_h1n1_sick_from_vacc',\n",
        "                       'opinion_seas_vacc_effective','opinion_seas_risk','opinion_seas_sick_from_vacc','h1n1_knowledge',\n",
        "                       'h1n1_concern', 'behavioral_antiviral_meds','behavioral_avoidance', 'behavioral_face_mask',\n",
        "                      'behavioral_wash_hands','behavioral_large_gatherings','behavioral_outside_home',\n",
        "                      'behavioral_touch_face','doctor_recc_h1n1','doctor_recc_seasonal','chronic_med_condition',\n",
        "                      'child_under_6_months','health_worker','health_insurance']"
      ],
      "metadata": {
        "id": "u1FapTQKd1Cj"
      },
      "execution_count": null,
      "outputs": []
    },
    {
      "cell_type": "markdown",
      "source": [
        "Our X and y exclude respondent ID and both the h1n1 and seasonal vaccine target variables. We are not paying attention to seasonal vaccines in this project."
      ],
      "metadata": {
        "id": "hhXfzQ9AeEpN"
      }
    },
    {
      "cell_type": "code",
      "source": [
        "X = df.iloc[:,1:-2]\n",
        "y = df['h1n1_vaccine']"
      ],
      "metadata": {
        "id": "Lv-ihsjJeCbt"
      },
      "execution_count": null,
      "outputs": []
    },
    {
      "cell_type": "code",
      "source": [
        "Split the data so that we have our training set and testing set."
      ],
      "metadata": {
        "id": "Lz3rLDR_eJpU"
      },
      "execution_count": null,
      "outputs": []
    },
    {
      "cell_type": "code",
      "source": [
        "X_train, X_test, y_train, y_test = train_test_split(X,y,random_state=42)"
      ],
      "metadata": {
        "id": "1iQpnxsjeCiV"
      },
      "execution_count": null,
      "outputs": []
    },
    {
      "cell_type": "code",
      "source": [
        "X_train.shape, X_test.shape"
      ],
      "metadata": {
        "id": "cgyd3H1jeCkv"
      },
      "execution_count": null,
      "outputs": []
    },
    {
      "cell_type": "markdown",
      "source": [
        "Creating subpipes based on the needs of the respective columns."
      ],
      "metadata": {
        "id": "_XMYxbireRql"
      }
    },
    {
      "cell_type": "code",
      "source": [
        "subpipe_categorical = Pipeline(steps=[\n",
        "    ('cat_impute', SimpleImputer(strategy='most_frequent', add_indicator=True)),\n",
        "    ('ohe', OneHotEncoder(sparse=False, handle_unknown='ignore'))\n",
        "])\n",
        "\n",
        "subpipe_binary = Pipeline([\n",
        "    ('bin_impute', SimpleImputer(strategy='most_frequent')),\n",
        "    ('ohe', OneHotEncoder(sparse=False, handle_unknown='ignore'))\n",
        "])\n",
        "\n",
        "subpipe_simple_impute_only = Pipeline([\n",
        "    ('sio_impute', SimpleImputer(strategy='most_frequent'))\n",
        "])\n"
      ],
      "metadata": {
        "id": "Gzim9uSueCm-"
      },
      "execution_count": null,
      "outputs": []
    },
    {
      "cell_type": "code",
      "source": [
        "CT = ColumnTransformer(transformers=[\n",
        "    ('categorical', subpipe_categorical, categorical_columns),\n",
        "    ('binary', subpipe_binary, binary_columns),\n",
        "    ('simple_impute_only', subpipe_simple_impute_only, simple_impute_only)\n",
        "], remainder='passthrough')"
      ],
      "metadata": {
        "id": "54njkbtSeCpE"
      },
      "execution_count": null,
      "outputs": []
    },
    {
      "cell_type": "markdown",
      "source": [
        "## 4A. Dummy Model"
      ],
      "metadata": {
        "id": "pjJJqh0meZnb"
      }
    },
    {
      "cell_type": "code",
      "source": [
        "Creating first dummy/baseline model to compare our following models to."
      ],
      "metadata": {
        "id": "die3cie1eCrQ"
      },
      "execution_count": null,
      "outputs": []
    },
    {
      "cell_type": "code",
      "source": [
        "dummy_pipeline = Pipeline(steps=[\n",
        "    ('CT',CT),\n",
        "    ('dummy',DummyClassifier(strategy='most_frequent'))\n",
        "])"
      ],
      "metadata": {
        "id": "5UH-BuNmeXqX"
      },
      "execution_count": null,
      "outputs": []
    },
    {
      "cell_type": "code",
      "source": [
        "dummy_pipeline.fit(X_train, y_train)"
      ],
      "metadata": {
        "id": "l522PjvNeXs-"
      },
      "execution_count": null,
      "outputs": []
    },
    {
      "cell_type": "code",
      "source": [
        "print('Training set score: ' + str(dummy_pipeline.score(X_train,y_train)))\n",
        "print('Test set score: ' + str(dummy_pipeline.score(X_test,y_test)))"
      ],
      "metadata": {
        "id": "psinDnf6eXvK"
      },
      "execution_count": null,
      "outputs": []
    },
    {
      "cell_type": "code",
      "source": [
        "plot_roc_curve(dummy_pipeline, X_test, y_test, name='dummy model');"
      ],
      "metadata": {
        "id": "ZdPrqdZ5eXxh"
      },
      "execution_count": null,
      "outputs": []
    },
    {
      "cell_type": "markdown",
      "source": [
        "Our model must perform better than this!"
      ],
      "metadata": {
        "id": "I8aWqcJ2ewt8"
      }
    },
    {
      "cell_type": "markdown",
      "source": [
        "# 4B. First Simple Model"
      ],
      "metadata": {
        "id": "lgCwgzvcezNA"
      }
    },
    {
      "cell_type": "code",
      "source": [
        "fsm_pipeline = Pipeline([\n",
        "    ('CT',CT),\n",
        "    ('first_simple_model', LogisticRegression())\n",
        "])"
      ],
      "metadata": {
        "id": "tLcHeliHeXzh"
      },
      "execution_count": null,
      "outputs": []
    },
    {
      "cell_type": "code",
      "source": [
        "fsm_pipeline.fit(X_train, y_train)"
      ],
      "metadata": {
        "id": "vmGWBNvPe3at"
      },
      "execution_count": null,
      "outputs": []
    },
    {
      "cell_type": "code",
      "source": [
        "print('Training set score: ' + str(fsm_pipeline.score(X_train,y_train)))\n",
        "print('Test set score: ' + str(fsm_pipeline.score(X_test,y_test)))"
      ],
      "metadata": {
        "id": "V68Ug7RGe3dc"
      },
      "execution_count": null,
      "outputs": []
    },
    {
      "cell_type": "code",
      "source": [
        "plot_roc_curve(fsm_pipeline, X_test, y_test, name='logistic regression');"
      ],
      "metadata": {
        "id": "3StMxdV5e3fz"
      },
      "execution_count": null,
      "outputs": []
    },
    {
      "cell_type": "markdown",
      "source": [
        "This is an improvement from the dummy model. Let's tune it with gridsearching."
      ],
      "metadata": {
        "id": "Pt32C7OofDsx"
      }
    },
    {
      "cell_type": "markdown",
      "source": [
        "# 4C. Tuning First Simple Model with GridSearching\n"
      ],
      "metadata": {
        "id": "rU-DQx5CfGkC"
      }
    },
    {
      "cell_type": "markdown",
      "source": [
        "Creating parameters for the grid search. The gridsearch takes 25-40 minutes."
      ],
      "metadata": {
        "id": "Zh2aUcCnfN2_"
      }
    },
    {
      "cell_type": "code",
      "source": [
        "params = {\n",
        "    'first_simple_model__solver' : ['liblinear','lbfgs'],\n",
        "    'first_simple_model__max_iter': [10, 100,1000,10_000],\n",
        "    'first_simple_model__C' : [0.0001, 0.001, 0.01, 0.1, 1],\n",
        "    'first_simple_model__tol' : [0.0001, 0.001, 0.01, 0.1]\n",
        "}"
      ],
      "metadata": {
        "id": "Kft8-WySe3h_"
      },
      "execution_count": null,
      "outputs": []
    },
    {
      "cell_type": "code",
      "source": [
        "gridsearch = GridSearchCV(\n",
        "    estimator = fsm_pipeline,\n",
        "    param_grid=params,\n",
        "    cv=5,\n",
        "    verbose=1\n",
        ")"
      ],
      "metadata": {
        "id": "mm1omcCee3j_"
      },
      "execution_count": null,
      "outputs": []
    },
    {
      "cell_type": "code",
      "source": [
        "gridsearch.fit(X_train,y_train)"
      ],
      "metadata": {
        "id": "1f8KTAH7e3n2"
      },
      "execution_count": null,
      "outputs": []
    },
    {
      "cell_type": "code",
      "source": [
        "best_params = gridsearch.best_params_\n",
        "best_params"
      ],
      "metadata": {
        "id": "diDVugH9fXpM"
      },
      "execution_count": null,
      "outputs": []
    },
    {
      "cell_type": "code",
      "source": [
        "best_pipe = gridsearch.best_estimator_\n",
        "best_pipe"
      ],
      "metadata": {
        "id": "3OeGdQySfXr7"
      },
      "execution_count": null,
      "outputs": []
    },
    {
      "cell_type": "code",
      "source": [
        "result_df = pd.DataFrame.from_dict(gridsearch.cv_results_, orient='columns')\n",
        "result_df"
      ],
      "metadata": {
        "id": "BHp7Uu2jfXuS"
      },
      "execution_count": null,
      "outputs": []
    },
    {
      "cell_type": "code",
      "source": [
        "print('Training set score: ' + str(best_pipe.score(X_train,y_train)))\n",
        "print('Test set score: ' + str(best_pipe.score(X_test,y_test)))"
      ],
      "metadata": {
        "id": "b5BG65-PfXwM"
      },
      "execution_count": null,
      "outputs": []
    },
    {
      "cell_type": "code",
      "source": [
        "plot_roc_curve(best_pipe, X_train, y_train, name='GridSearch Logistic Regression');\n"
      ],
      "metadata": {
        "id": "sMQyJuWJfXzo"
      },
      "execution_count": null,
      "outputs": []
    },
    {
      "cell_type": "code",
      "source": [
        "cv = cross_validate(best_pipe, X_train, y_train, scoring=['r2','neg_mean_squared_error'], return_train_score=True)\n",
        "cv"
      ],
      "metadata": {
        "id": "URR8KVXyfX3Y"
      },
      "execution_count": null,
      "outputs": []
    },
    {
      "cell_type": "code",
      "source": [
        "y_preds4c = best_pipe.predict(X_test)"
      ],
      "metadata": {
        "id": "visZMB_yfpni"
      },
      "execution_count": null,
      "outputs": []
    },
    {
      "cell_type": "code",
      "source": [
        "plot_confusion_matrix(best_pipe, X_test, y_test);"
      ],
      "metadata": {
        "id": "PEwioiWgfr9B"
      },
      "execution_count": null,
      "outputs": []
    },
    {
      "cell_type": "code",
      "source": [
        "print(f\"\"\"\n",
        "Our 4C model's accuracy on the test set is {round(accuracy_score(y_test, y_preds4c), 4) * 100}%. \\n\n",
        "Our 4C model's recall on the test set is {round(recall_score(y_test, y_preds4c), 5) * 100}%. \\n\n",
        "Our 4C model's precision on the test set is {round(precision_score(y_test, y_preds4c), 4) * 100}%. \\n\n",
        "Our 4C model's f1-score on the test is {round(f1_score(y_test, y_preds4c), 3) * 100}%.\n",
        "\"\"\")"
      ],
      "metadata": {
        "id": "Auhat3_VfsEj"
      },
      "execution_count": null,
      "outputs": []
    },
    {
      "cell_type": "markdown",
      "source": [
        "Tuning our model based on the gridsearch improved our model!"
      ],
      "metadata": {
        "id": "4sJeRdwHf1Du"
      }
    },
    {
      "cell_type": "markdown",
      "source": [
        "# 4D. Logistic Regression with SMOTE"
      ],
      "metadata": {
        "id": "VZUIIVgOf3SB"
      }
    },
    {
      "cell_type": "markdown",
      "source": [
        "Earlier we mentioned a possible class imbalance (section 3). Let's see if adding SMOTE to the model improves the performance."
      ],
      "metadata": {
        "id": "X56sDYOwf7OG"
      }
    },
    {
      "cell_type": "code",
      "source": [
        "smote_pipeline = ImPipeline(steps=[\n",
        "    ('ct', CT),\n",
        "    ('sm', SMOTE(random_state=42)),\n",
        "    ('best_pipe', LogisticRegression(C=1,max_iter=100, solver='lbfgs',tol=.0001))\n",
        "])"
      ],
      "metadata": {
        "id": "2DXc4366fsHS"
      },
      "execution_count": null,
      "outputs": []
    },
    {
      "cell_type": "code",
      "source": [
        "smote_pipeline.fit(X_train, y_train)"
      ],
      "metadata": {
        "id": "Gx6gdIA8fsJ5"
      },
      "execution_count": null,
      "outputs": []
    },
    {
      "cell_type": "code",
      "source": [
        "print('Training set score: ' + str(smote_pipeline.score(X_train,y_train)))\n",
        "print('Test set score: ' + str(smote_pipeline.score(X_test,y_test)))\n"
      ],
      "metadata": {
        "id": "qeH2HoZGfsL8"
      },
      "execution_count": null,
      "outputs": []
    },
    {
      "cell_type": "code",
      "source": [
        "plot_roc_curve(smote_pipeline, X_test, y_test, name='Smote Model');\n"
      ],
      "metadata": {
        "id": "velKutzbgCTe"
      },
      "execution_count": null,
      "outputs": []
    },
    {
      "cell_type": "code",
      "source": [
        "cv = cross_validate(smote_pipeline, X_train, y_train, scoring=['r2','neg_mean_squared_error'], return_train_score=True)\n",
        "cv"
      ],
      "metadata": {
        "id": "hPzPPW8hgCWi"
      },
      "execution_count": null,
      "outputs": []
    },
    {
      "cell_type": "code",
      "source": [
        "y_preds4d = smote_pipeline.predict(X_test)"
      ],
      "metadata": {
        "id": "77GjvNYWgCYq"
      },
      "execution_count": null,
      "outputs": []
    },
    {
      "cell_type": "code",
      "source": [
        "print(f\"\"\"\n",
        "Our 4d model's accuracy on the test set is {round(accuracy_score(y_test, y_preds4d), 4) * 100}%. \\n\n",
        "Our 4d model's recall on the test set is {round(recall_score(y_test, y_preds4d), 5) * 100}%. \\n\n",
        "Our 4d model's precision on the test set is {round(precision_score(y_test, y_preds4d), 4) * 100}%. \\n\n",
        "Our 4d model's f1-score on the test is {round(f1_score(y_test, y_preds4d), 3) * 100}%.\n",
        "\"\"\")\n"
      ],
      "metadata": {
        "id": "bqKKxYGXgCa4"
      },
      "execution_count": null,
      "outputs": []
    },
    {
      "cell_type": "markdown",
      "source": [
        "Adding SMOTE to the model decreased it's performance so if we are going to move forward with including all the columns in our model, we will move forward with the gridsearch logistic regression without SMOTE."
      ],
      "metadata": {
        "id": "O_HZ7di6gQ7p"
      }
    },
    {
      "cell_type": "markdown",
      "source": [
        "# 5. Pipeline Creation - H1N1 Vaccine and Select Columns"
      ],
      "metadata": {
        "id": "19rq6_thqrZa"
      }
    },
    {
      "cell_type": "markdown",
      "source": [
        "Before choosing our model, let's explore what happens to our model if we decrease the number of columns/variables.\n",
        "\n"
      ],
      "metadata": {
        "id": "ZZdT3aMLqwlB"
      }
    },
    {
      "cell_type": "code",
      "source": [
        "X_select = df[['age_group', 'education', 'race', 'income_poverty', 'employment_status', 'marital_status', 'sex','hhs_geo_region']]\n",
        "y_select = df['h1n1_vaccine']"
      ],
      "metadata": {
        "id": "1XZK1_STgCc6"
      },
      "execution_count": null,
      "outputs": []
    },
    {
      "cell_type": "code",
      "source": [
        "categorical_columns = ['age_group', 'education', 'race', 'income_poverty', 'employment_status', 'hhs_geo_region']\n",
        "binary_columns = ['sex', 'marital_status']\n"
      ],
      "metadata": {
        "id": "OMdfV9WXq3f4"
      },
      "execution_count": null,
      "outputs": []
    },
    {
      "cell_type": "code",
      "source": [
        "X_train_select, X_test_select, y_train_select, y_test_select = train_test_split(X_select, y_select, random_state=42)"
      ],
      "metadata": {
        "id": "d2vbsHJbq3iV"
      },
      "execution_count": null,
      "outputs": []
    },
    {
      "cell_type": "code",
      "source": [
        "subpipe_categorical = Pipeline(steps=[\n",
        "    ('cat_impute', SimpleImputer(strategy='most_frequent', add_indicator=True)),\n",
        "    ('ohe', OneHotEncoder(sparse=False, handle_unknown='ignore'))\n",
        "])\n",
        "\n",
        "subpipe_binary = Pipeline([\n",
        "    ('bin_impute', SimpleImputer(strategy='most_frequent')),\n",
        "    ('ohe', OneHotEncoder(sparse=False, handle_unknown='ignore'))\n",
        "])"
      ],
      "metadata": {
        "id": "7TF7oY-uq3kl"
      },
      "execution_count": null,
      "outputs": []
    },
    {
      "cell_type": "code",
      "source": [
        "CT = ColumnTransformer(transformers=[\n",
        "    ('categorical', subpipe_categorical, categorical_columns),\n",
        "    ('binary', subpipe_binary, binary_columns)\n",
        "], remainder='passthrough')"
      ],
      "metadata": {
        "id": "H5GtZbqaq3oK"
      },
      "execution_count": null,
      "outputs": []
    },
    {
      "cell_type": "markdown",
      "source": [
        "# 5A. Dummy Model"
      ],
      "metadata": {
        "id": "6E1wMmlhrCaC"
      }
    },
    {
      "cell_type": "markdown",
      "source": [
        "Creating our dummy model for our new pipelines that include only select columns.\n",
        "\n"
      ],
      "metadata": {
        "id": "MaNa1MTorGW0"
      }
    },
    {
      "cell_type": "code",
      "source": [
        "dummy_pipeline = Pipeline(steps=[\n",
        "    ('CT', CT),\n",
        "    ('dummy', DummyClassifier(strategy='most_frequent'))\n",
        "])"
      ],
      "metadata": {
        "id": "WNNGme0QrACh"
      },
      "execution_count": null,
      "outputs": []
    },
    {
      "cell_type": "code",
      "source": [
        "dummy_pipeline.fit(X_train_select,y_train_select)"
      ],
      "metadata": {
        "id": "R-gTK7wqrAFV"
      },
      "execution_count": null,
      "outputs": []
    },
    {
      "cell_type": "code",
      "source": [
        "print('Training set score: ' + str(dummy_pipeline.score(X_train_select,y_train_select)))\n",
        "print('Test set score: ' + str(dummy_pipeline.score(X_test_select,y_test_select)))\n"
      ],
      "metadata": {
        "id": "OfhV4g4ZrAH2"
      },
      "execution_count": null,
      "outputs": []
    },
    {
      "cell_type": "code",
      "source": [
        "plot_roc_curve(dummy_pipeline, X_test_select, y_test_select, name='dummy model');\n"
      ],
      "metadata": {
        "id": "XVD_XsoyrALw"
      },
      "execution_count": null,
      "outputs": []
    },
    {
      "cell_type": "markdown",
      "source": [
        "# 5B. First Simple Model for Select Columns"
      ],
      "metadata": {
        "id": "ZO7fKEXMrPTv"
      }
    },
    {
      "cell_type": "code",
      "source": [
        "fsm_pipeline = Pipeline([\n",
        "    ('CT', CT),\n",
        "    ('first_simple_model', LogisticRegression())\n",
        "])"
      ],
      "metadata": {
        "id": "_HzHyOz1rAPA"
      },
      "execution_count": null,
      "outputs": []
    },
    {
      "cell_type": "code",
      "source": [
        "fsm_pipeline.fit(X_train_select,y_train_select)"
      ],
      "metadata": {
        "id": "NzDfaOmWrTBE"
      },
      "execution_count": null,
      "outputs": []
    },
    {
      "cell_type": "code",
      "source": [
        "print('Training set score: ' + str(fsm_pipeline.score(X_train_select,y_train_select)))\n",
        "print('Test set score: ' + str(fsm_pipeline.score(X_test_select,y_test_select)))"
      ],
      "metadata": {
        "id": "Mpc1bkWDrTDl"
      },
      "execution_count": null,
      "outputs": []
    },
    {
      "cell_type": "code",
      "source": [
        "plot_roc_curve(fsm_pipeline, X_test_select, y_test_select, name='first simple model');\n"
      ],
      "metadata": {
        "id": "-Z-qfidJrTFw"
      },
      "execution_count": null,
      "outputs": []
    },
    {
      "cell_type": "markdown",
      "source": [
        "This does not look good. Let's gridsearch to see if it improves our model at all."
      ],
      "metadata": {
        "id": "owydbDSnrc9C"
      }
    },
    {
      "cell_type": "markdown",
      "source": [
        "## 5C. Tuning First Simple Model with GridSearching"
      ],
      "metadata": {
        "id": "8wOGlVGHrfGa"
      }
    },
    {
      "cell_type": "code",
      "source": [
        "params = {\n",
        "    'first_simple_model__solver' : ['liblinear','lbfgs'],\n",
        "    'first_simple_model__max_iter': [10, 100,1000,10_000],\n",
        "    'first_simple_model__C' : [0.0001, 0.001, 0.01, 0.1, 1],\n",
        "    'first_simple_model__tol' : [0.0001, 0.001, 0.01, 0.1]\n",
        "}"
      ],
      "metadata": {
        "id": "QPFZrWwJrTI9"
      },
      "execution_count": null,
      "outputs": []
    },
    {
      "cell_type": "code",
      "source": [
        "gridsearch_select = GridSearchCV(\n",
        "    estimator = fsm_pipeline,\n",
        "    param_grid = params,\n",
        "    cv=5,\n",
        "    verbose=1)"
      ],
      "metadata": {
        "id": "1SiRmbdZriXn"
      },
      "execution_count": null,
      "outputs": []
    },
    {
      "cell_type": "code",
      "source": [
        "gridsearch_select.fit(X_train_select,y_train_select)\n"
      ],
      "metadata": {
        "id": "oA9Cvl3XriaH"
      },
      "execution_count": null,
      "outputs": []
    },
    {
      "cell_type": "code",
      "source": [
        "best_params_select = gridsearch_select.best_params_\n",
        "best_params_select"
      ],
      "metadata": {
        "id": "mNPv9oChricw"
      },
      "execution_count": null,
      "outputs": []
    },
    {
      "cell_type": "code",
      "source": [
        "best_pipe_select = gridsearch_select.best_estimator_\n",
        "best_pipe_select"
      ],
      "metadata": {
        "id": "rCIu5Rmkrpdg"
      },
      "execution_count": null,
      "outputs": []
    },
    {
      "cell_type": "code",
      "source": [
        "result_df = pd.DataFrame.from_dict(gridsearch_select.cv_results_,orient='columns')\n",
        "resu"
      ],
      "metadata": {
        "id": "_HOmaPv9rpgP"
      },
      "execution_count": null,
      "outputs": []
    },
    {
      "cell_type": "code",
      "source": [
        "print('Training set score: ' + str(best_pipe_select.score(X_train_select,y_train)))\n",
        "print('Test set score: ' + str(best_pipe_select.score(X_test_select,y_test)))"
      ],
      "metadata": {
        "id": "PIhdULPSrpin"
      },
      "execution_count": null,
      "outputs": []
    },
    {
      "cell_type": "code",
      "source": [
        "plot_roc_curve(best_pipe_select, X_train_select, y_train_select, name = 'GridSearch Logistic Regression with Select Variables');\n"
      ],
      "metadata": {
        "id": "RVFylIFgrpkr"
      },
      "execution_count": null,
      "outputs": []
    },
    {
      "cell_type": "markdown",
      "source": [
        "Overall, this is not a good performance. Let's go back to using all columns in our model."
      ],
      "metadata": {
        "id": "PRyqKBnJr2P_"
      }
    },
    {
      "cell_type": "markdown",
      "source": [
        "# 6. FINAL STAGE - Exploring Prediction"
      ],
      "metadata": {
        "id": "tfg-x0Uer4jb"
      }
    },
    {
      "cell_type": "markdown",
      "source": [
        "Refer to section 4C of selecting the best model including all the variables."
      ],
      "metadata": {
        "id": "PKja5-yRr8rh"
      }
    },
    {
      "cell_type": "code",
      "source": [
        "final_model = best_pipe\n",
        "final_model"
      ],
      "metadata": {
        "id": "D-Rw_Ofprwhv"
      },
      "execution_count": null,
      "outputs": []
    },
    {
      "cell_type": "markdown",
      "source": [
        "# 6A. Final Model Evaluation"
      ],
      "metadata": {
        "id": "Ej0R9PPbsDhV"
      }
    },
    {
      "cell_type": "markdown",
      "source": [
        "Let's evaluate our model once more just to be extra careful."
      ],
      "metadata": {
        "id": "SaZ6_b3osJdO"
      }
    },
    {
      "cell_type": "code",
      "source": [
        "plot_roc_curve(best_pipe, X_train, y_train, name='Final Model');"
      ],
      "metadata": {
        "id": "MhYFF6tesBmo"
      },
      "execution_count": null,
      "outputs": []
    },
    {
      "cell_type": "code",
      "source": [
        "print('Training set score: ' + str(final_model.score(X_train,y_train)))\n",
        "print('Test set score: ' + str(final_model.score(X_test,y_test)))"
      ],
      "metadata": {
        "id": "Eo5oidaOrwkP"
      },
      "execution_count": null,
      "outputs": []
    },
    {
      "cell_type": "code",
      "source": [
        "cv = cross_validate(final_model, X_train, y_train, scoring=['r2','neg_mean_squared_error'], return_train_score=True)\n",
        "cv"
      ],
      "metadata": {
        "id": "0hPw7lRWrwm-"
      },
      "execution_count": null,
      "outputs": []
    },
    {
      "cell_type": "code",
      "source": [
        "plot_confusion_matrix(final_model, X_test, y_test);"
      ],
      "metadata": {
        "id": "-3Spk4ZasPsQ"
      },
      "execution_count": null,
      "outputs": []
    },
    {
      "cell_type": "code",
      "source": [
        "final_preds = final_model.predict(X_test)"
      ],
      "metadata": {
        "id": "Jq17Q4UdsPvc"
      },
      "execution_count": null,
      "outputs": []
    },
    {
      "cell_type": "markdown",
      "source": [
        "## 6B. Final Model Interpretation"
      ],
      "metadata": {
        "id": "M9EjwRPLsUs-"
      }
    },
    {
      "cell_type": "code",
      "source": [
        "print(f\"\"\"\n",
        "The final model's accuracy on the test set is {round(accuracy_score(y_test, final_preds), 4) * 100}%. \\n\n",
        "The final model's recall on the test set is {round(recall_score(y_test, final_preds), 4) * 100}%. \\n\n",
        "The final model's precision on the test set is {round(precision_score(y_test, final_preds), 4) * 100}%. \\n\n",
        "The final model's f1-score on the test is {round(f1_score(y_test, final_preds), 4) * 100}%. \\n\n",
        "The final model's ROC AUC score on the test is {round(roc_auc_score(y_test, final_preds, average='macro'), 5) * 100}%.\n",
        "\"\"\")"
      ],
      "metadata": {
        "id": "eNaAFe6osPyl"
      },
      "execution_count": null,
      "outputs": []
    },
    {
      "cell_type": "markdown",
      "source": [
        "INTERPRETATION: While the final model’s overall accuracy score was 84%, the recall rate was 95%. This tells us that of individuals who will not receive the vaccine, the model will accurately predict 95% of them. This is good news for us because, for this business question, we are mostly concerned with identifying unvaccinated individuals. It won’t hurt to market to an individual who will indeed get the vaccine. We would rather err on the side of identifying a larger volume of unvaccinated individuals. Let’s take a sneak peak at what this machine learning model tells us.\n",
        "\n"
      ],
      "metadata": {
        "id": "BYe6PGDgsaL2"
      }
    },
    {
      "cell_type": "markdown",
      "source": [
        "# 6C. Creating Predictions DataFrame"
      ],
      "metadata": {
        "id": "pbt35026sdm9"
      }
    },
    {
      "cell_type": "markdown",
      "source": [
        "Let's create a new dataframe that includes our predictions to evaluate what the predictions tell us about people less likely to receive the vaccine."
      ],
      "metadata": {
        "id": "UzyCrgQhsgy9"
      }
    },
    {
      "cell_type": "code",
      "source": [
        "X_preds = X_test.copy()"
      ],
      "metadata": {
        "id": "PRGkJFr4sP1A"
      },
      "execution_count": null,
      "outputs": []
    },
    {
      "cell_type": "code",
      "source": [
        "X_preds['Predictions'] = final_preds\n",
        "X_preds['True Values'] = y_test"
      ],
      "metadata": {
        "id": "hEu-gwijsP3F"
      },
      "execution_count": null,
      "outputs": []
    },
    {
      "cell_type": "code",
      "source": [
        "X_preds"
      ],
      "metadata": {
        "id": "b59UbMQWsP49"
      },
      "execution_count": null,
      "outputs": []
    },
    {
      "cell_type": "markdown",
      "source": [
        "# 6D. Exploring Data Based on Target Predictions #"
      ],
      "metadata": {
        "id": "ZcVx8HK_sqK1"
      }
    },
    {
      "cell_type": "markdown",
      "source": [
        "Creating a function to explore the relationship between our dependent variable of h1n1 vaccine predictions and various independent variables in our dataset."
      ],
      "metadata": {
        "id": "FcwCthGQs0k1"
      }
    },
    {
      "cell_type": "code",
      "source": [
        "def explore(x):\n",
        "    fig, ax = plt.subplots(figsize=(24,12))\n",
        "    sns.barplot(x=x, y='Predictions', palette='colorblind', data=X_preds);\n",
        "\n",
        "    x_groupby = (X_preds.groupby([x]).mean().sort_values(by='Predictions', ascending=False))\n",
        "    x_groupby = x_groupby[['Predictions']]\n",
        "    print(x_groupby)"
      ],
      "metadata": {
        "id": "jYSDEFnfsP6x"
      },
      "execution_count": null,
      "outputs": []
    },
    {
      "cell_type": "code",
      "source": [
        "explore('employment_status')"
      ],
      "metadata": {
        "id": "AOZYwnKrsP9C"
      },
      "execution_count": null,
      "outputs": []
    },
    {
      "cell_type": "code",
      "source": [
        "explore('age_group')"
      ],
      "metadata": {
        "id": "rFi4N4NKrwpJ"
      },
      "execution_count": null,
      "outputs": []
    },
    {
      "cell_type": "code",
      "source": [
        "explore('hhs_geo_region')\n",
        "#coded in random strings for privacy purposes\n"
      ],
      "metadata": {
        "id": "BhyH1aKhs-G_"
      },
      "execution_count": null,
      "outputs": []
    },
    {
      "cell_type": "code",
      "source": [
        "explore('rent_or_own')"
      ],
      "metadata": {
        "id": "0jQCLyPTs-Jd"
      },
      "execution_count": null,
      "outputs": []
    },
    {
      "cell_type": "code",
      "source": [
        "explore('census_msa')"
      ],
      "metadata": {
        "id": "zdnbweRls-Le"
      },
      "execution_count": null,
      "outputs": []
    },
    {
      "cell_type": "code",
      "source": [
        "explore('education')"
      ],
      "metadata": {
        "id": "5YXK3Ciqs-Nf"
      },
      "execution_count": null,
      "outputs": []
    },
    {
      "cell_type": "code",
      "source": [
        "explore('doctor_recc_h1n1')"
      ],
      "metadata": {
        "id": "5R9M5g-6s-SF"
      },
      "execution_count": null,
      "outputs": []
    },
    {
      "cell_type": "code",
      "source": [
        "explore('marital_status')"
      ],
      "metadata": {
        "id": "OevJRdhItK2Q"
      },
      "execution_count": null,
      "outputs": []
    },
    {
      "cell_type": "code",
      "source": [
        "explore('child_under_6_months')\n"
      ],
      "metadata": {
        "id": "yJrMHpSStK4l"
      },
      "execution_count": null,
      "outputs": []
    },
    {
      "cell_type": "code",
      "source": [
        "explore('household_adults')"
      ],
      "metadata": {
        "id": "xEh0gT9ZtK6f"
      },
      "execution_count": null,
      "outputs": []
    },
    {
      "cell_type": "code",
      "source": [
        "explore('household_children')"
      ],
      "metadata": {
        "id": "obOBhfBStK87"
      },
      "execution_count": null,
      "outputs": []
    },
    {
      "cell_type": "code",
      "source": [
        "explore('race')"
      ],
      "metadata": {
        "id": "LuzaU9NztK_D"
      },
      "execution_count": null,
      "outputs": []
    },
    {
      "cell_type": "code",
      "source": [
        "explore('income_poverty')"
      ],
      "metadata": {
        "id": "eF0yh8EhtLDW"
      },
      "execution_count": null,
      "outputs": []
    },
    {
      "cell_type": "code",
      "source": [
        "explore('employment_occupation')\n",
        "#coded in random strings for privacy purposes"
      ],
      "metadata": {
        "id": "Ygxjo8r-tLFe"
      },
      "execution_count": null,
      "outputs": []
    },
    {
      "cell_type": "code",
      "source": [
        "explore('health_worker')"
      ],
      "metadata": {
        "id": "_9pbu4mxtLH1"
      },
      "execution_count": null,
      "outputs": []
    },
    {
      "cell_type": "code",
      "source": [
        "explore('health_insurance')"
      ],
      "metadata": {
        "id": "VivAtF1ItLKD"
      },
      "execution_count": null,
      "outputs": []
    },
    {
      "cell_type": "markdown",
      "source": [
        "Exporting X_preds DataFrame to use in creating Power BI visualizations."
      ],
      "metadata": {
        "id": "ym72Xo3Oti80"
      }
    },
    {
      "cell_type": "code",
      "source": [
        "#X_preds.to_csv('h1n1vaccines.csv')"
      ],
      "metadata": {
        "id": "EV-3YiWJtfRa"
      },
      "execution_count": null,
      "outputs": []
    }
  ]
}